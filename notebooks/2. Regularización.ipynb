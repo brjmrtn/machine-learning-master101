{
 "cells": [
  {
   "cell_type": "markdown",
   "metadata": {},
   "source": [
    "# 2. Regularización\n",
    "\n",
    "En este notebook se revisarán los conceptos de:\n",
    "\n",
    "1. Regularización en regresión\n",
    "    1. Ridge regression\n",
    "    2. Lasso \n",
    "2. Regularización en clasificación\n",
    "    1. Regresión logística\n",
    "\n",
    "Primero cargamos librerías y funciones necesarias"
   ]
  },
  {
   "cell_type": "code",
   "execution_count": 1,
   "metadata": {},
   "outputs": [],
   "source": [
    "import numpy as np\n",
    "import pandas as pd\n",
    "\n",
    "import matplotlib.pyplot as plt\n",
    "from matplotlib.colors import ListedColormap\n",
    "%matplotlib inline\n",
    "\n",
    "cm = plt.cm.RdBu\n",
    "cm_bright = ListedColormap(['#FF0000', '#0000FF'])\n",
    "\n",
    "import warnings\n",
    "warnings.filterwarnings('ignore')"
   ]
  },
  {
   "cell_type": "code",
   "execution_count": 2,
   "metadata": {},
   "outputs": [],
   "source": [
    "# definimos una función para representar el resultado del ajuste\n",
    "def plot_decision_boundary(X,y,h,model):\n",
    "    \n",
    "    x_min, x_max = X[:, 0].min() - .5, X[:, 0].max() + .5\n",
    "    y_min, y_max = X[:, 1].min() - .5, X[:, 1].max() + .5\n",
    "    h = .05  # step size in the mesh\n",
    "    \n",
    "    xx, yy = np.meshgrid(np.arange(x_min, x_max, h), np.arange(y_min, y_max, h))\n",
    "    \n",
    "    Zd = model.predict(np.c_[xx.ravel(), yy.ravel()])\n",
    "    Zd = Zd.reshape(xx.shape)\n",
    "    \n",
    "    Zp = model.predict_proba(np.c_[xx.ravel(), yy.ravel()])[:,1] \n",
    "    Zp = Zp.reshape(xx.shape)\n",
    "    \n",
    "    # Error de clasificación\n",
    "    ypred = model.predict(X)\n",
    "    acc = accuracy_score(y,ypred)\n",
    "    \n",
    "    plt.figure(1, figsize=(12, 5))\n",
    "    \n",
    "    plt.subplot(1,2,1)\n",
    "    plt.scatter(X[:, 0], X[:, 1], c=y, cmap=cm_bright)\n",
    "    plt.axis([x_min, x_max, y_min, y_max])\n",
    "    plt.contour(xx, yy, Zd, levels=[0], linewidths=2)\n",
    "    plt.contourf(xx, yy, Zd,cmap=cm, alpha=.5)\n",
    "    plt.xlabel(\"$x_1$\", fontsize=16)\n",
    "    plt.ylabel(\"$x_2$\", fontsize=16)\n",
    "    msg = 'FRONTERA DECISION\\n Acc: %0.2g' % acc\n",
    "    plt.title(msg)\n",
    "    \n",
    "    plt.subplot(1,2,2)\n",
    "    plt.scatter(X[:, 0], X[:, 1], c=y, cmap=cm_bright)\n",
    "    plt.axis([x_min, x_max, y_min, y_max])\n",
    "    #plt.contour(xx, yy, Zp, levels=[0], linewidths=2)\n",
    "    plt.contourf(xx, yy, Zp,cmap=cm, alpha=.5)\n",
    "    plt.xlabel(\"$x_1$\", fontsize=16)\n",
    "    plt.ylabel(\"$x_2$\", fontsize=16)\n",
    "    msg = 'PROBABILIDAD\\n Acc: %0.2g' % acc\n",
    "    plt.title(msg)\n",
    "    \n",
    "    plt.tight_layout()\n",
    "    plt.show()"
   ]
  },
  {
   "cell_type": "code",
   "execution_count": 3,
   "metadata": {},
   "outputs": [],
   "source": [
    "# definimos una función para representar el resultado del ajuste\n",
    "def plot_decision_boundary_poly(X,y,h,model,poly):\n",
    "    \n",
    "    x_min, x_max = X[:, 0].min() - .5, X[:, 0].max() + .5\n",
    "    y_min, y_max = X[:, 1].min() - .5, X[:, 1].max() + .5\n",
    "    h = .05  # step size in the mesh\n",
    "    \n",
    "    xx, yy = np.meshgrid(np.arange(x_min, x_max, h), np.arange(y_min, y_max, h))\n",
    "    XX = np.c_[xx.ravel(), yy.ravel()]\n",
    "    Zd = model.predict(poly.fit_transform(XX))\n",
    "    Zd = Zd.reshape(xx.shape)\n",
    "    \n",
    "    Zp = model.predict_proba(poly.fit_transform(XX))[:,1] \n",
    "    Zp = Zp.reshape(xx.shape)\n",
    "    \n",
    "    # Error de clasificación\n",
    "    ypred = model.predict(poly.fit_transform(X))\n",
    "    acc = accuracy_score(y,ypred)\n",
    "    \n",
    "    plt.figure(1, figsize=(12, 5))\n",
    "    \n",
    "    plt.subplot(1,2,1)\n",
    "    plt.scatter(X[:, 0], X[:, 1], c=y, cmap=cm_bright)\n",
    "    plt.axis([x_min, x_max, y_min, y_max])\n",
    "    plt.contour(xx, yy, Zd, levels=[0], linewidths=2)\n",
    "    plt.contourf(xx, yy, Zd,cmap=cm, alpha=.5)\n",
    "    plt.xlabel(\"$x_1$\", fontsize=16)\n",
    "    plt.ylabel(\"$x_2$\", fontsize=16)\n",
    "    msg = 'FRONTERA DECISION\\n Acc: %0.2g' % acc\n",
    "    plt.title(msg)\n",
    "    \n",
    "    plt.subplot(1,2,2)\n",
    "    plt.scatter(X[:, 0], X[:, 1], c=y, cmap=cm_bright)\n",
    "    plt.axis([x_min, x_max, y_min, y_max])\n",
    "    plt.contour(xx, yy, Zp, levels=[0], linewidths=2)\n",
    "    plt.contourf(xx, yy, Zp,cmap=cm, alpha=.5)\n",
    "    plt.xlabel(\"$x_1$\", fontsize=16)\n",
    "    plt.ylabel(\"$x_2$\", fontsize=16)\n",
    "    msg = 'PROBABILIDAD\\n Acc: %0.2g' % acc\n",
    "    plt.title(msg)\n",
    "    \n",
    "    plt.tight_layout()\n",
    "    plt.show()"
   ]
  },
  {
   "cell_type": "markdown",
   "metadata": {},
   "source": [
    "# 2.1 Regularización sobre algoritmos de regresión.\n",
    "\n",
    "Vamos a trabajar sobre el mismo ejemplo que vimos en la clase anterior para entender el concepto de regularización. "
   ]
  },
  {
   "cell_type": "code",
   "execution_count": 4,
   "metadata": {},
   "outputs": [
    {
     "data": {
      "image/png": "[encoded data removed]",
      "text/plain": [
       "<Figure size 432x288 with 1 Axes>"
      ]
     },
     "metadata": {
      "needs_background": "light"
     },
     "output_type": "display_data"
    }
   ],
   "source": [
    "N_train = 10\n",
    "N_test  = 100\n",
    "\n",
    "# función verdadera g(x)\n",
    "x = np.linspace(0,1,N_test)\n",
    "g_x = np.cos(1.5*np.pi*x)\n",
    "\n",
    "# proceso y\n",
    "np.random.seed(0) # para asegurar reproducibilidad\n",
    "epsilon = np.random.randn(N_test) * 0.2\n",
    "y = g_x + epsilon\n",
    "\n",
    "# Datos: D = {x_i,y_i}, obtenemos una muestra\n",
    "idx = np.random.randint(0,N_test,N_train)\n",
    "x_i = x[idx]\n",
    "y_i = y[idx]\n",
    "\n",
    "# dibujamos la función g(x), y el conjunto de datos x_i,y_i\n",
    "plt.plot(x,g_x,'r',label='g(x)')\n",
    "plt.plot(x_i,y_i,'b.',label='y')\n",
    "plt.legend()\n",
    "plt.show()"
   ]
  },
  {
   "cell_type": "markdown",
   "metadata": {},
   "source": [
    "En primer lugar, ajustamos un modelo (regresión lineal) muy complejo sobre estos datos, de la forma:\n",
    "\n",
    "$$f_{\\omega}(x) = \\omega_0 + \\sum_{j=1}^{10}\\omega_j x^j$$\n",
    "\n",
    "el cual tiene 10 coeficientes ($\\omega_1,\\ldots,\\omega_{10}$). Este modelo seguramente sufrirá de overfitting.\n",
    "\n",
    "<div class = \"alert alert-success\">\n",
    "EJERCICIO: Entrena un algoritmo de regresión lineal y calcula el error cuadrático medio del conjunto de test\n",
    "</div>\n",
    "\n",
    "Error cuadrático medio: $$MSE = \\frac{1}{N}\\sum_{i=1}^N \\left(y^{(i)}-\\hat{y}^{(i)}\\right)^2$$"
   ]
  },
  {
   "cell_type": "code",
   "execution_count": 5,
   "metadata": {},
   "outputs": [
    {
     "ename": "NameError",
     "evalue": "name 'lr' is not defined",
     "output_type": "error",
     "traceback": [
      "\u001b[1;31m---------------------------------------------------------------------------\u001b[0m",
      "\u001b[1;31mNameError\u001b[0m                                 Traceback (most recent call last)",
      "\u001b[1;32m<ipython-input-5-6a8fd02919b5>\u001b[0m in \u001b[0;36m<module>\u001b[1;34m\u001b[0m\n\u001b[0;32m     17\u001b[0m \u001b[1;33m\u001b[0m\u001b[0m\n\u001b[0;32m     18\u001b[0m \u001b[1;31m# predicción\u001b[0m\u001b[1;33m\u001b[0m\u001b[1;33m\u001b[0m\u001b[1;33m\u001b[0m\u001b[0m\n\u001b[1;32m---> 19\u001b[1;33m \u001b[0my_hat\u001b[0m \u001b[1;33m=\u001b[0m \u001b[0mlr\u001b[0m\u001b[1;33m.\u001b[0m\u001b[0mpredict\u001b[0m\u001b[1;33m(\u001b[0m\u001b[0mX_test\u001b[0m\u001b[1;33m)\u001b[0m\u001b[1;33m\u001b[0m\u001b[1;33m\u001b[0m\u001b[0m\n\u001b[0m\u001b[0;32m     20\u001b[0m \u001b[1;33m\u001b[0m\u001b[0m\n\u001b[0;32m     21\u001b[0m \u001b[1;31m# Calcula el MSE: TU CÓDIGO AQUÍ\u001b[0m\u001b[1;33m\u001b[0m\u001b[1;33m\u001b[0m\u001b[1;33m\u001b[0m\u001b[0m\n",
      "\u001b[1;31mNameError\u001b[0m: name 'lr' is not defined"
     ]
    }
   ],
   "source": [
    "from sklearn.preprocessing import PolynomialFeatures\n",
    "from sklearn.linear_model import LinearRegression \n",
    "\n",
    "degree = 10\n",
    "\n",
    "# features\n",
    "poly    = PolynomialFeatures(degree) # generamos x^j\n",
    "X_train = poly.fit_transform(x_i.reshape(-1, 1))\n",
    "y_train = y_i\n",
    "\n",
    "X_test = poly.fit_transform(x.reshape(-1, 1))\n",
    "y_test = y\n",
    "\n",
    "# Entrena modelo: TU CÓDIGO AQUÍ\n",
    "\n",
    "###\n",
    "\n",
    "# predicción\n",
    "y_hat = lr.predict(X_test)\n",
    "\n",
    "# Calcula el MSE: TU CÓDIGO AQUÍ\n",
    "\n",
    "##\n",
    "\n",
    "plt.plot(x,g_x,'r',label='$y$')\n",
    "plt.plot(x_i,y_i,'b.',label='$y_i$')\n",
    "plt.plot(x,y_hat,'g',label='$\\hat{y}$')\n",
    "plt.title('Grado: %i\\nMSE:%.2f'%(degree,mse))\n",
    "plt.legend()\n",
    "plt.xlim((0, 1))\n",
    "plt.ylim((-2, 2))\n",
    "plt.show()\n",
    "\n",
    "# Mostramos los coeficientes del modelo\n",
    "print('w0: ', lr.intercept_)\n",
    "\n",
    "w = lr.coef_\n",
    "norm_w2 = np.dot(w,w.T) # no se tiene en cuenta el intercepto\n",
    "\n",
    "coef_names = ['w' + str(i) + ': ' for i in range(1,degree+1)]\n",
    "for f,wi in zip(coef_names,w):\n",
    "    print(f,wi)\n",
    "\n",
    "print('\\n||w||_2^2 = %.2g'%norm_w2)"
   ]
  },
  {
   "cell_type": "markdown",
   "metadata": {},
   "source": [
    "## 2.1.1 Ridge regression\n",
    "\n",
    "Se refiere al modelo de regresión lineal con penalización sobre la magnitud de los coeficientes\n",
    "\n",
    "$$\\min_{\\boldsymbol{\\omega}}|| \\mathbf{y} - \\mathbf{X}\\boldsymbol{\\omega}||_2^2 + \\alpha ||\\boldsymbol{\\omega} ||_2^2$$\n",
    "\n",
    "como medida contra el [*overfitting*](https://en.wikipedia.org/wiki/Overfitting)\n",
    "\n",
    "El modelo de [*ridge regression*](http://scikit-learn.org/stable/modules/generated/sklearn.linear_model.Ridge.html), tiene un parámetro libre ($\\alpha$) que hemos de fijar a priori. En otras palabras, tenemos que dar un valor a $\\alpha$ para que el modelo calcule los coeficientes $\\boldsymbol{\\omega}$. A tener en cuenta:\n",
    "\n",
    "* Si $\\alpha = 0$, entonces el resultado coincide con un modelo de [regresión lineal](http://scikit-learn.org/stable/modules/generated/sklearn.linear_model.LinearRegression.html).\n",
    "* Si $\\alpha \\to \\infty$, entonces el valor de todos los coeficientes será nulo.\n",
    "\n",
    "Por tanto, para buscar el valor de $\\alpha$ adecuado, tendremos que barrer valores en una escala que cubra valores muy pequeños y valores elevados. Para ello, normalmente se utiliza escala logarítmica aumentando progresivamente el orden  de magnitud. Como ejemplo, podríamos barrer lambda utilizando los siguientes valores $\\alpha = \\{10^{-3},0.01,0.1,1,10,100,1000\\}$, que en escala logarítmica queda como $\\log_{10}({\\alpha}) = \\{-3,-2,-1,0,1,2,3\\}$\n",
    "\n",
    "Vamos a implementar el algoritmo de *ridge regression* variando los valores de $\\alpha$, y viendo cómo esta variación afecta a los coeficientes $\\boldsymbol{\\omega}$ del modelo. "
   ]
  },
  {
   "cell_type": "code",
   "execution_count": null,
   "metadata": {},
   "outputs": [],
   "source": [
    "from sklearn.linear_model import Ridge\n",
    "\n",
    "#model\n",
    "alpha = 1e-14\n",
    "ridge = Ridge(alpha = alpha).fit(X_train,y_train)\n",
    "w = ridge.coef_\n",
    "norm_w2 = np.dot(w,w.T)\n",
    "    \n",
    "# predicción\n",
    "y_hat = ridge.predict(X_test)\n",
    "\n",
    "# error\n",
    "error_test = np.mean(np.power(y - y_hat,2)) \n",
    "\n",
    "plt.plot(x,g_x,'r',label='$y$')\n",
    "plt.plot(x_i,y_i,'b.',label='$y_i$')\n",
    "plt.plot(x,y_hat,'g',label='$\\hat{y}$')\n",
    "plt.title('Grado: %i, MSE:%.2f\\nalpha: %g, $||w||_2^2$ = %.2g'%(degree,error_test,alpha,norm_w2))\n",
    "plt.legend()\n",
    "plt.xlim((0, 1))\n",
    "plt.ylim((-2, 2))\n",
    "plt.show()\n",
    "\n",
    "coef_names = ['w' + str(i) + ': ' for i in range(1,degree+1)]\n",
    "\n",
    "for f,wi in zip(coef_names,w):\n",
    "    print(f,wi)"
   ]
  },
  {
   "cell_type": "markdown",
   "metadata": {},
   "source": [
    "<div class = \"alert alert-success\">\n",
    "EJERCICIO: Varía los valores de $\\alpha$ y comprueba cómo afecta al resultado, ¿Cómo varían los coeficientes del modelo?\n",
    "</div>"
   ]
  },
  {
   "cell_type": "markdown",
   "metadata": {},
   "source": [
    "Representamos ahora el valor de los coeficientes del modelo y su norma para distintos valores del parámetro de regularización\n",
    "\n",
    "<div class = \"alert alert-success\">\n",
    "EJERCICIO: Entrene un modelo Ridge para distintos valores de $\\alpha$\n",
    "</div>"
   ]
  },
  {
   "cell_type": "code",
   "execution_count": null,
   "metadata": {},
   "outputs": [],
   "source": [
    "n_alphas = 20\n",
    "alphas = np.logspace(-10, -3, n_alphas)\n",
    "\n",
    "coefs = []\n",
    "\n",
    "norm2_coefs = []\n",
    "for a in alphas:\n",
    "    #### TU CÓDIGO AQUÍ\n",
    "    \n",
    "    \n",
    "    #####\n",
    "    coefs.append(ridge.coef_)\n",
    "    norm2_coefs.append(np.dot(ridge.coef_,ridge.coef_.T))\n",
    "\n",
    "# Display results\n",
    "plt.figure(figsize=(14, 5))\n",
    "\n",
    "ax = plt.subplot(1, 2, 1)\n",
    "ax.plot(alphas, coefs)\n",
    "ax.set_xscale('log')\n",
    "ax.set_xlim(ax.get_xlim()[::-1])  # reverse axis\n",
    "plt.xlabel('alpha')\n",
    "plt.ylabel('$w_i$')\n",
    "plt.title('Coeficientes en función de la regularización')\n",
    "plt.axis('tight')\n",
    "\n",
    "\n",
    "ax = plt.subplot(1, 2, 2)\n",
    "ax.plot(alphas, norm2_coefs)\n",
    "ax.set_xscale('log')\n",
    "ax.set_xlim(ax.get_xlim()[::-1])  # reverse axis\n",
    "plt.xlabel('alpha')\n",
    "plt.ylabel('$||\\mathbf{w}||^2_2$')\n",
    "plt.title('Norma de los coeffs en función de la regularización')\n",
    "plt.axis('tight')\n",
    "plt.show()\n"
   ]
  },
  {
   "cell_type": "markdown",
   "metadata": {},
   "source": [
    "<div class = \"alert alert-success\">\n",
    "EJERCICIO: ¿Cuál es el valor óptimo de $\\alpha$?\n",
    "</div>\n",
    "\n",
    "Para responder a este ejercicio de forma correcta debemos probar con distintos valores de $\\alpha$ a partir de los datos, pero ¿cómo calculamos este valor? De nuevo, acudimos a la validación cruzada. "
   ]
  },
  {
   "cell_type": "code",
   "execution_count": null,
   "metadata": {},
   "outputs": [],
   "source": [
    "from sklearn.model_selection import GridSearchCV\n",
    "\n",
    "# Por convención, GridSearchCV siempre intenta MAXIMIZAR los resultados, por lo que\n",
    "# funciones de coste, como MSE, tienen que ir negadas: https://github.com/scikit-learn/scikit-learn/issues/2439\n",
    "# Por eso aparece neg_mean_squared_error y por eso hay luego un -1 multiplicando\n",
    "\n",
    "alpha_vector = np.logspace(-15,1,25)\n",
    "param_grid = {'alpha': alpha_vector }\n",
    "grid = GridSearchCV(Ridge(), scoring= 'neg_mean_squared_error', param_grid=param_grid, cv = 5)\n",
    "grid.fit(X_train, y_train)\n",
    "print(\"best mean cross-validation score: {:.3f}\".format(grid.best_score_))\n",
    "print(\"best parameters: {}\".format(grid.best_params_))\n",
    "\n",
    "scores = -1*np.array(grid.cv_results_['mean_test_score'])\n",
    "plt.semilogx(alpha_vector,scores,'-o')\n",
    "plt.xlabel('alpha',fontsize=16)\n",
    "plt.ylabel('5-Fold MSE')\n",
    "#plt.ylim((0, 1))\n",
    "plt.show()"
   ]
  },
  {
   "cell_type": "markdown",
   "metadata": {},
   "source": [
    "<div class = \"alert alert-success\">\n",
    "EJERCICIO: Descomente la línea plt.ylim((0, 1))\n",
    "</div>"
   ]
  },
  {
   "cell_type": "markdown",
   "metadata": {},
   "source": [
    "Entrenamos el modelo ahora con el valor óptimo de $\\alpha$ que hemos encontrado con validación cruzada."
   ]
  },
  {
   "cell_type": "code",
   "execution_count": null,
   "metadata": {},
   "outputs": [],
   "source": [
    "alpha_optimo = grid.best_params_['alpha']\n",
    "ridge = Ridge(alpha = alpha_optimo).fit(X_train,y_train)\n",
    "\n",
    "# predicción\n",
    "y_hat = ridge.predict(X_test)\n",
    "w = ridge.coef_\n",
    "norm_w2 = np.dot(w,w.T)\n",
    "\n",
    "# error\n",
    "error_test = np.mean(np.power(y - y_hat,2)) \n",
    "\n",
    "\n",
    "plt.plot(x,g_x,'r',label='$y$')\n",
    "plt.plot(x_i,y_i,'b.',label='$y_i$')\n",
    "plt.plot(x,y_hat,'g',label='$\\hat{y}$')\n",
    "plt.title('Grado: %i, MSE:%.2f\\nalpha: %g, $||w||_2^2$ = %.2g'%(degree,error_test,alpha_optimo,norm_w2))\n",
    "plt.legend()\n",
    "plt.xlim((0, 1))\n",
    "plt.ylim((-2, 2))\n",
    "plt.show()\n",
    "\n",
    "coef_names = ['w' + str(i) + ': ' for i in range(1,degree+1)]\n",
    "\n",
    "for f,wi in zip(coef_names,w):\n",
    "    print(f,wi)"
   ]
  },
  {
   "cell_type": "markdown",
   "metadata": {},
   "source": [
    "## 2.1.2 Lasso \n",
    "\n",
    "Se refiere al modelo de regresión lineal con penalización (norma 1) sobre la magnitud de los coeficientes\n",
    "\n",
    "$$\\min_{\\boldsymbol{\\omega}}|| \\mathbf{y} - \\mathbf{X}\\boldsymbol{\\omega}||_2^2 + \\alpha ||\\boldsymbol{\\omega} ||_1$$\n",
    "\n",
    "donde $||\\boldsymbol{\\omega} ||_1 = |\\omega_1| + |\\omega_2| + \\ldots + |\\omega_D|$, siendo $D$ el número de atributos ($\\omega_0$ no se tiene en cuenta en esta penalización).\n",
    "\n",
    "Con esta formulación el algoritmo Lasso permite activar/desactivar coeficientes, de tal forma que se desactivan primero los coeficienes asociados a los atributos que menos influyen en la función de coste (función a minimizar anterior). Con ello:\n",
    "\n",
    "1. Se previene el overfitting, al poder utilizar modelos con menos variables (las desactivamos)\n",
    "2. Se gana interpretabilidad, al poder ver cómo evolucionan las variables supervivientes.\n",
    "\n",
    "La activación y desactivación de variables está determinada por el parámetro de regularización $\\alpha$, de la misma forma que sucede con el algoritmo Ridge:\n",
    "\n",
    "* Si $\\alpha = 0$, entonces el resultado coincide con un modelo de [regresión lineal](http://scikit-learn.org/stable/modules/generated/sklearn.linear_model.LinearRegression.html).\n",
    "* Si $\\alpha \\to \\infty$, entonces el valor de todos los coeficientes será nulo.\n",
    "\n",
    "<div class = \"alert alert-success\">\n",
    "EJERCICIO: Repite los análisis anteriores (Ridge), para el algoritmo [Lasso](http://scikit-learn.org/stable/modules/generated/sklearn.linear_model.Lasso.html)\n",
    "</div>\n"
   ]
  },
  {
   "cell_type": "code",
   "execution_count": null,
   "metadata": {},
   "outputs": [],
   "source": [
    "from sklearn.linear_model import Lasso\n",
    "# ..."
   ]
  },
  {
   "cell_type": "code",
   "execution_count": null,
   "metadata": {},
   "outputs": [],
   "source": [
    "n_alphas = 20\n",
    "alphas = np.logspace(-10, 0, n_alphas)\n",
    "# ..."
   ]
  },
  {
   "cell_type": "code",
   "execution_count": null,
   "metadata": {},
   "outputs": [],
   "source": [
    "alpha_vector = np.logspace(-10,1,25)\n",
    "# ..."
   ]
  },
  {
   "cell_type": "code",
   "execution_count": null,
   "metadata": {},
   "outputs": [],
   "source": [
    "alpha_optimo = grid.best_params_['alpha']\n",
    "lasso = Lasso(alpha = alpha_optimo).fit(X_train,y_train)\n",
    "# ... "
   ]
  },
  {
   "cell_type": "markdown",
   "metadata": {},
   "source": [
    "<div class = \"alert alert-success\">\n",
    "EJERCICIO: A la vista de los resultados, ¿qué diferencias entre Ridge y Lasso destacarías?\n",
    "</div>"
   ]
  },
  {
   "cell_type": "markdown",
   "metadata": {},
   "source": [
    "# 2.2 Regularización sobre algoritmos de clasificación\n",
    "\n",
    "Algunos algoritmos de clasificación también tienen un parámetro que permite controlar su complejidad. En el caso de [regresión logística](http://scikit-learn.org/stable/modules/linear_model.html#logistic-regression), la función de coste a minimizar es de la forma:\n",
    "\n",
    "$$J(\\boldsymbol{\\omega}) = -\\sum_{i=1}^N y^{(i)}\\log{(\\theta(\\mathbf{x}^{(i)}))} + (1-y^{(i)})\\log{\\left(1-\\theta(\\mathbf{x}^{(i)})\\right)}  = \\sum_{i=1}^N \\log{\\left(1+ e^{-y^{(i)}\\boldsymbol{\\omega}^T\\mathbf{x}^{(i)}}\\right)}  $$\n",
    "\n",
    "donde $\\theta(\\mathbf{x}^{(i)}) = \\frac{1}{1+e^{-\\boldsymbol{\\omega}^T\\mathbf{x}^{(i)}}}$. En su versión \"regularizada\", la función de coste pasa a ser:\n",
    "\n",
    "$$J(\\boldsymbol{\\omega}) = \\frac{1}{2}||\\boldsymbol{\\omega}||_2^2 + C \\sum_{i=1}^N \\log{\\left(1+ e^{-y^{(i)}\\boldsymbol{\\omega}^T\\mathbf{x}^{(i)}}\\right)}$$\n",
    "\n",
    "El **coste $C$** es el parámetro libre que permite controlar la complejidad del algoritmo, penalizando los errores que se comenten en clasificación. Este parámetro supone un compromiso entre la exactitud de la solución y la complejidad del algoritmo, en ese sentido es similar al parámetro de regularización $\\alpha$ que utilizamos en Ridge y Lasso. En este caso, de forma intuitiva podemos decir que **$C$ se comporta como  $1/\\alpha$**. Así:\n",
    "\n",
    "- Cuanto mayor es $C$ (menor es $\\alpha$), más penalizamos los errores en clasificación y la frontera se ajusta mucho a los datos (en el caso extremo se ajustará perfectamente). Riesgo de overfitting pero con potencial menor error de clasificación.\n",
    "\n",
    "\n",
    "- Cuanto menor es $C$ (mayor es $\\alpha$), menos penalizamos los errores en clasificación y tenderemos hacia modelos más sencillos (fronteras menos ajustadas, menor riesgo de overfitting pero potencialmente con más error de clasificación)\n",
    "\n",
    "NOTA: por defecto, $C=1$ en scikit-learn.\n",
    "\n",
    "# 2.2 Regularización sobre algoritmos de clasificación\n",
    "\n",
    "Algunos algoritmos de clasificación también tienen un parámetro que permite controlar su complejidad. En el caso de [regresión logística](http://scikit-learn.org/stable/modules/linear_model.html#logistic-regression), la función de coste a minimizar es de la forma:\n",
    "\n",
    "$$J(\\boldsymbol{\\omega}) = -\\sum_{i=1}^N y^{(i)}\\log{(\\theta(\\mathbf{x}^{(i)}))} + (1-y^{(i)})\\log{\\left(1-\\theta(\\mathbf{x}^{(i)})\\right)}  = \\sum_{i=1}^N \\log{\\left(1+ e^{-y^{(i)}\\boldsymbol{\\omega}^T\\mathbf{x}^{(i)}}\\right)}  $$\n",
    "\n",
    "donde $\\theta(\\mathbf{x}^{(i)}) = \\frac{1}{1+e^{-\\boldsymbol{\\omega}^T\\mathbf{x}^{(i)}}}$. En su versión \"regularizada\", la función de coste pasa a ser:\n",
    "\n",
    "$$J(\\boldsymbol{\\omega}) = \\frac{1}{2}||\\boldsymbol{\\omega}||_2^2 + C \\sum_{i=1}^N \\log{\\left(1+ e^{-y^{(i)}\\boldsymbol{\\omega}^T\\mathbf{x}^{(i)}}\\right)}$$\n",
    "\n",
    "El **coste $C$** es el parámetro libre que permite controlar la complejidad del algoritmo, penalizando los errores que se comenten en clasificación. Este parámetro supone un compromiso entre la exactitud de la solución y la complejidad del algoritmo, en ese sentido es similar al parámetro de regularización $\\alpha$ que utilizamos en Ridge y Lasso. En este caso, de forma intuitiva podemos decir que **$C$ se comporta como  $1/\\alpha$**. Así:\n",
    "\n",
    "- Cuanto mayor es $C$ (menor es $\\alpha$), más penalizamos los errores en clasificación y la frontera se ajusta mucho a los datos (en el caso extremo se ajustará perfectamente). Riesgo de overfitting pero con potencial menor error de clasificación.\n",
    "\n",
    "\n",
    "- Cuanto menor es $C$ (mayor es $\\alpha$), menos penalizamos los errores en clasificación y tenderemos hacia modelos más sencillos (fronteras menos ajustadas, menor riesgo de overfitting pero potencialmente con más error de clasificación)\n",
    "\n",
    "NOTA: por defecto, $C=1$ en scikit-learn.\n",
    "\n",
    "![](./figuras/Sesgo_varianza_parametros.png)\n",
    "\n",
    "\n",
    "\n",
    "Veamos cómo funciona $C$ sobre los ejemplos de clasificación que hemos visto anteriormente.\n",
    "\n",
    "\n",
    "\n",
    "Veamos cómo funciona $C$ sobre los ejemplos de clasificación que hemos visto anteriormente."
   ]
  },
  {
   "cell_type": "code",
   "execution_count": null,
   "metadata": {},
   "outputs": [],
   "source": [
    "# ejemplo1\n",
    "ejemplo1 = pd.read_csv(\"./data/ex2data1.txt\", sep=\",\", header=None, names=['x1', 'x2','label'])\n",
    "\n",
    "# ejemplo2\n",
    "ejemplo2 = pd.read_csv(\"./data/ex2data2.txt\", sep=\",\", header=None, names=['x1', 'x2','label'])\n",
    "\n",
    "# ejemplo 3: Problema XOR \n",
    "np.random.seed(0)\n",
    "\n",
    "# -- parameters\n",
    "N     = 800\n",
    "mu    = 1.5      # Cambia este valor\n",
    "sigma = 1      # Cambia este valor\n",
    "\n",
    "# variables auxiliares\n",
    "unos = np.ones(int(N/4))\n",
    "random4 = sigma*np.random.randn(int(N/4),1)\n",
    "random2 = sigma*np.random.randn(int(N/2),1)\n",
    "\n",
    "# -- features\n",
    "y3 = np.concatenate([-1*unos,       unos,          unos,         -1*unos]) \n",
    "X1 = np.concatenate([-mu + random4, mu + random4, -mu + random4, mu + random4])\n",
    "X2 = np.concatenate([+mu + random2,               -mu + random2])\n",
    "X3 = np.hstack((X1,X2))"
   ]
  },
  {
   "cell_type": "code",
   "execution_count": null,
   "metadata": {},
   "outputs": [],
   "source": [
    "plt.figure(figsize=(15,5))\n",
    "\n",
    "plt.subplot(1,3,1)\n",
    "plt.scatter(ejemplo1['x1'], ejemplo1['x2'], c=ejemplo1['label'], cmap=cm_bright)\n",
    "plt.xlabel(\"$x_1$\", fontsize=16)\n",
    "plt.ylabel(\"$x_2$\", fontsize=16)\n",
    "plt.title('Ejemplo 1')\n",
    "\n",
    "plt.subplot(1,3,2)\n",
    "plt.scatter(ejemplo2['x1'], ejemplo2['x2'], c=ejemplo2['label'], cmap=cm_bright)\n",
    "plt.xlabel(\"$x_1$\", fontsize=16)\n",
    "plt.ylabel(\"$x_2$\", fontsize=16)\n",
    "plt.title('Ejemplo 2')\n",
    "\n",
    "plt.subplot(1,3,3)\n",
    "plt.scatter(X3[:,0], X3[:,1], c=y3, cmap=cm_bright)\n",
    "plt.xlabel(\"$x_1$\", fontsize=16)\n",
    "plt.ylabel(\"$x_2$\", fontsize=16)\n",
    "plt.title('Ejemplo 3')\n",
    "\n",
    "plt.tight_layout()\n",
    "plt.show()"
   ]
  },
  {
   "cell_type": "code",
   "execution_count": null,
   "metadata": {},
   "outputs": [],
   "source": [
    "from sklearn.linear_model import LogisticRegression\n",
    "from sklearn.metrics import accuracy_score\n",
    "\n",
    "# preparamos los datos\n",
    "data1 = ejemplo1.values\n",
    "X1 = data1[:,0:2]\n",
    "y1 = data1[:,-1]\n",
    "\n",
    "# creamos el modelo\n",
    "lr1 = LogisticRegression()\n",
    "\n",
    "# ajustamos con los datos disponibles\n",
    "lr1.fit(X1,y1)\n",
    "plot_decision_boundary(X1,y1,0.05,lr1)"
   ]
  },
  {
   "cell_type": "code",
   "execution_count": null,
   "metadata": {},
   "outputs": [],
   "source": [
    "# C grande (ANTES DE EJECUTAR TRATA DE PENSAR CÓMO SERÁ EL RESULTADO!)\n",
    "lr1 = LogisticRegression(C = 1000)\n",
    "lr1.fit(X1,y1)\n",
    "plot_decision_boundary(X1,y1,0.05,lr1)"
   ]
  },
  {
   "cell_type": "code",
   "execution_count": null,
   "metadata": {},
   "outputs": [],
   "source": [
    "# C pequeño (ANTES DE EJECUTAR TRATA DE PENSAR CÓMO SERÁ EL RESULTADO!)\n",
    "lr1 = LogisticRegression(C = 0.4)\n",
    "lr1.fit(X1,y1)\n",
    "plot_decision_boundary(X1,y1,0.05,lr1)"
   ]
  },
  {
   "cell_type": "markdown",
   "metadata": {},
   "source": [
    "<div class = \"alert alert-success\">\n",
    "EJERCICIO: Aplica el algoritmo de regresión logística sobre los ejemplos anteriores 2 y 3, variando el valor de $C$\n",
    "</div>"
   ]
  },
  {
   "cell_type": "code",
   "execution_count": null,
   "metadata": {},
   "outputs": [],
   "source": [
    "# Ejemplo 2"
   ]
  },
  {
   "cell_type": "code",
   "execution_count": null,
   "metadata": {},
   "outputs": [],
   "source": [
    "# Ejemplo 3"
   ]
  },
  {
   "cell_type": "markdown",
   "metadata": {},
   "source": [
    "Pero cuidado, no hagamos trampas, ¿cómo tenemos que seleccionar el valor de $C$ adecuado para el problema?\n",
    "\n",
    "<div class = \"alert alert-success\">\n",
    "EJERCICIO: Calcula el valor óptimo de $C$ para el ejemplo 3\n",
    "</div>"
   ]
  },
  {
   "cell_type": "code",
   "execution_count": null,
   "metadata": {},
   "outputs": [],
   "source": [
    "from sklearn.model_selection import train_test_split\n",
    "\n",
    "poly     = PolynomialFeatures(2)\n",
    "X3poly   = poly.fit_transform(X3)\n",
    "X_train, X_test, y_train, y_test = train_test_split(X3poly, y3, test_size = 0.3, shuffle = True, random_state = 0)\n",
    "\n",
    "vectorC = np.logspace(-10, 2, 20)\n",
    "param_grid = {'C': vectorC}\n",
    "grid = GridSearchCV(LogisticRegression(fit_intercept=False), scoring= 'accuracy', param_grid=param_grid, cv = 5)\n",
    "grid.fit(X_train, y_train)\n",
    "print(\"best mean cross-validation score: {:.3f}\".format(grid.best_score_))\n",
    "print(\"best parameters: {}\".format(grid.best_params_))\n",
    "print(\"test-set score: {:.2f}\".format(grid.score(X_test, y_test)))\n",
    "\n",
    "scores = np.array(grid.cv_results_['mean_test_score'])\n",
    "plt.semilogx(vectorC,scores,'-o')\n",
    "plt.xlabel('C')\n",
    "plt.ylabel('5-Fold ACC')\n",
    "plt.show()"
   ]
  },
  {
   "cell_type": "markdown",
   "metadata": {},
   "source": [
    "<div class = \"alert alert-success\">\n",
    "EJERCICIO: Representa la frontera de separación para el valor de $C$ óptimo\n",
    "</div>"
   ]
  },
  {
   "cell_type": "code",
   "execution_count": null,
   "metadata": {},
   "outputs": [],
   "source": [
    "# Tu código aquí\n"
   ]
  },
  {
   "cell_type": "markdown",
   "metadata": {},
   "source": [
    "A pesar de que la búsqueda de parámetros libres nos proporcione un valor óptimo, quizá éste está demasiado ajustado, por lo tanto es recomendable representar el resultado, en la medida de lo posible, e interpretarlo de forma correcta.\n",
    "\n",
    "Casi todos los algoritmos de machine learning tienen un parámetro que controla la complejidad del mismo, y tenemos que conocer cómo afecta al resultado. Eso sí, para calcular su valor, siempre utilizaremos una estrategia adecuada de selección del modelo (normalmente validación cruzada). Y siempre, siempre, dejamos el conjunto de test en el cofre del tesoro."
   ]
  }
 ],
 "metadata": {
  "kernelspec": {
   "display_name": "Python 3",
   "language": "python",
   "name": "python3"
  },
  "language_info": {
   "codemirror_mode": {
    "name": "ipython",
    "version": 3
   },
   "file_extension": ".py",
   "mimetype": "text/x-python",
   "name": "python",
   "nbconvert_exporter": "python",
   "pygments_lexer": "ipython3",
   "version": "3.7.4"
  }
 },
 "nbformat": 4,
 "nbformat_minor": 2
}
